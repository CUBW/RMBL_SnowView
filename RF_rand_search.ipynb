{
 "cells": [
  {
   "cell_type": "code",
   "execution_count": 1,
   "metadata": {},
   "outputs": [],
   "source": [
    "import pandas as pd\n",
    "import numpy as np\n",
    "import pickle\n",
    "import time\n",
    "\n",
    "from sklearn.model_selection import RandomizedSearchCV\n",
    "from sklearn.ensemble import RandomForestClassifier\n",
    "from sklearn import metrics\n",
    "from sklearn.metrics import confusion_matrix\n",
    "\n",
    "start_time = time.time()\n",
    "#import df from file using pickle\n",
    "images_df = pd.read_pickle('640_df.pkl')\n",
    "\n",
    "#randomly select 50% of the data for use in the grid search\n",
    "images_df = images_df.sample(frac=0.5)\n",
    "\n",
    "#lets do a rand search\n",
    "param_dist = {\n",
    "    'n_estimators': [5, 10, 15, 25, 50],\n",
    "    'max_depth': [None, 10, 20, 30],\n",
    "    'min_samples_split': [2, 5, 10],\n",
    "    'min_samples_leaf': [1, 2, 4],\n",
    "}\n",
    "\n",
    "#set up model\n",
    "rf = RandomForestClassifier(random_state=42)\n"
   ]
  },
  {
   "cell_type": "code",
   "execution_count": 2,
   "metadata": {},
   "outputs": [],
   "source": [
    "# Set up the grid search\n",
    "rand_search = RandomizedSearchCV(estimator=rf, param_distributions=param_dist, n_iter=100, scoring='accuracy',\n",
    "                           cv=5, n_jobs=8, verbose=3)\n",
    "\n",
    "#get data\n",
    "X = images_df.drop(labels=['labels'], axis=1)\n",
    "y = images_df['labels'].values\n"
   ]
  },
  {
   "cell_type": "code",
   "execution_count": 4,
   "metadata": {},
   "outputs": [
    {
     "name": "stdout",
     "output_type": "stream",
     "text": [
      "Fitting 5 folds for each of 100 candidates, totalling 500 fits\n"
     ]
    }
   ],
   "source": [
    "# Fit the grid search to the data\n",
    "rand_search.fit(X, y)\n"
   ]
  },
  {
   "cell_type": "code",
   "execution_count": null,
   "metadata": {},
   "outputs": [],
   "source": [
    "#save everything to disk when done fitting\n",
    "pickle.dump(rand_search, open('rand_search.pkl', 'wb'))\n",
    "print(\"Finished, took \", time.time()-start_time, \" seconds\")"
   ]
  }
 ],
 "metadata": {
  "kernelspec": {
   "display_name": "Python 3",
   "language": "python",
   "name": "python3"
  },
  "language_info": {
   "codemirror_mode": {
    "name": "ipython",
    "version": 3
   },
   "file_extension": ".py",
   "mimetype": "text/x-python",
   "name": "python",
   "nbconvert_exporter": "python",
   "pygments_lexer": "ipython3",
   "version": "3.11.3"
  }
 },
 "nbformat": 4,
 "nbformat_minor": 2
}
