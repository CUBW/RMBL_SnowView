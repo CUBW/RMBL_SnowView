{
 "cells": [
  {
   "cell_type": "code",
   "execution_count": 1,
   "metadata": {},
   "outputs": [],
   "source": [
    "import cv2\n",
    "import numpy as np\n",
    "import pandas as pd\n",
    "import pickle\n",
    "\n",
    "from tqdm import tqdm\n"
   ]
  },
  {
   "cell_type": "code",
   "execution_count": 2,
   "metadata": {},
   "outputs": [],
   "source": [
    "def add_channel(image):\n",
    "    # Create a new channel with the same shape as the input image\n",
    "    new_channel = np.zeros((image.shape[0], image.shape[1], 1))\n",
    "    \n",
    "    # Check if the other three channels are zero\n",
    "    mask = np.sum(image[:, :, :3], axis=2) > 0\n",
    "    \n",
    "    # Set the new channel to 1 where the other three channels are not zero\n",
    "    new_channel[mask] = 1\n",
    "    \n",
    "    # Concatenate the new channel with the input image\n",
    "    new_image = np.concatenate((image, new_channel), axis=2)\n",
    "    \n",
    "    return new_image"
   ]
  },
  {
   "cell_type": "code",
   "execution_count": 3,
   "metadata": {},
   "outputs": [
    {
     "name": "stderr",
     "output_type": "stream",
     "text": [
      "0image [00:00, ?image/s]"
     ]
    },
    {
     "name": "stderr",
     "output_type": "stream",
     "text": [
      "131image [00:04, 28.47image/s]\n"
     ]
    }
   ],
   "source": [
    "#open csv with pandas\n",
    "csv_df = pd.read_csv(\"data/640_Squared/640_Squared.csv\")\n",
    "\n",
    "new_images = []\n",
    "new_masks = []\n",
    "\n",
    "#iterate over rows\n",
    "for index, row in tqdm(csv_df.iterrows(), unit='image'):\n",
    "    #get the image path\n",
    "    image_path = row['snow_path']\n",
    "    #read the image\n",
    "    image = cv2.imread(image_path)\n",
    "\n",
    "    # read the mask\n",
    "    mask_path = row['snowbinary_path']\n",
    "    mask = cv2.imread(mask_path, cv2.IMREAD_GRAYSCALE)\n",
    "\n",
    "    #add the channel\n",
    "    new_image = add_channel(image)\n",
    "    \n",
    "    #append the new image and mask to the list\n",
    "    new_images.append(new_image)\n",
    "    new_masks.append(mask)"
   ]
  },
  {
   "cell_type": "code",
   "execution_count": 4,
   "metadata": {},
   "outputs": [],
   "source": [
    "data = new_images, new_masks\n",
    "\n",
    "# pickle the files\n",
    "with open('data/640_640_4.pkl', 'wb') as f:\n",
    "    pickle.dump(data, f)"
   ]
  }
 ],
 "metadata": {
  "kernelspec": {
   "display_name": "Python 3",
   "language": "python",
   "name": "python3"
  },
  "language_info": {
   "codemirror_mode": {
    "name": "ipython",
    "version": 3
   },
   "file_extension": ".py",
   "mimetype": "text/x-python",
   "name": "python",
   "nbconvert_exporter": "python",
   "pygments_lexer": "ipython3",
   "version": "3.11.9"
  }
 },
 "nbformat": 4,
 "nbformat_minor": 2
}
