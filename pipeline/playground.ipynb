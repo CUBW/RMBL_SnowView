{
 "cells": [
  {
   "cell_type": "code",
   "execution_count": 1,
   "metadata": {},
   "outputs": [],
   "source": [
    "import rasterio\n",
    "import numpy as np"
   ]
  },
  {
   "cell_type": "code",
   "execution_count": 2,
   "metadata": {},
   "outputs": [
    {
     "data": {
      "text/plain": [
       "(3, 637, 799)"
      ]
     },
     "execution_count": 2,
     "metadata": {},
     "output_type": "execute_result"
    }
   ],
   "source": [
    "filepath = \"../data/2019-20/DeerCreekTrail_2019_05_22_snow.tif\"\n",
    "img = rasterio.open(filepath)\n",
    "img.read().shape"
   ]
  },
  {
   "cell_type": "code",
   "execution_count": 3,
   "metadata": {},
   "outputs": [
    {
     "data": {
      "text/plain": [
       "array([  9.,  10.,  11.,  12.,  13.,  14.,  15.,  16.,  17.,  18.,  19.,\n",
       "        20.,  21.,  22.,  23.,  24.,  25.,  26.,  27.,  28.,  29.,  30.,\n",
       "        31.,  32.,  33.,  34.,  35.,  36.,  37.,  38.,  39.,  40.,  41.,\n",
       "        42.,  43.,  44.,  45.,  46.,  47.,  48.,  49.,  50.,  51.,  52.,\n",
       "        53.,  54.,  55.,  56.,  57.,  58.,  59.,  60.,  61.,  62.,  63.,\n",
       "        64.,  65.,  66.,  67.,  68.,  69.,  70.,  71.,  72.,  73.,  74.,\n",
       "        75.,  76.,  77.,  78.,  79.,  80.,  81.,  82.,  83.,  84.,  85.,\n",
       "        86.,  87.,  88.,  89.,  90.,  91.,  92.,  93.,  94.,  95.,  96.,\n",
       "        97.,  98.,  99., 100., 101., 102., 103., 104., 105., 106., 107.,\n",
       "       108., 109., 110., 111., 112., 113., 114., 115., 116., 117., 118.,\n",
       "       119., 120., 121., 122., 123., 124., 125., 126., 127., 128., 129.,\n",
       "       130., 131., 132., 133., 134., 135., 136., 137., 138., 139., 140.,\n",
       "       141., 142., 143., 144., 145., 146., 147., 148., 149., 150., 151.,\n",
       "       152., 153., 154., 155., 156., 157., 158., 159., 160., 161., 162.,\n",
       "       163., 164., 165., 166., 167., 168., 169., 170., 171., 172., 173.,\n",
       "       174., 175., 176., 177., 178., 179., 180., 181., 182., 183., 184.,\n",
       "       185., 186., 187., 188., 189., 190., 191., 192., 193., 194., 195.,\n",
       "       196., 197., 198., 199., 200., 201., 202., 203., 204., 205., 206.,\n",
       "       207., 208., 209., 210., 211., 212., 213., 214., 215., 216., 217.,\n",
       "       218., 219., 220., 221., 222., 223., 224., 225., 226., 227., 228.,\n",
       "       229., 230., 231., 232., 233., 234., 235., 236., 237., 238., 239.,\n",
       "       240., 241., 242., 243., 244., 245., 246., 247., 248., 249., 250.,\n",
       "       251.,  nan], dtype=float32)"
      ]
     },
     "execution_count": 3,
     "metadata": {},
     "output_type": "execute_result"
    }
   ],
   "source": [
    "np.unique(img.read())"
   ]
  },
  {
   "cell_type": "code",
   "execution_count": 4,
   "metadata": {},
   "outputs": [
    {
     "name": "stdout",
     "output_type": "stream",
     "text": [
      "Gabor4 : theta= 0.0 : sigma= 1 : lamda= 0.7853981633974483 : gamma= 0.5\n",
      "Gabor5 : theta= 0.0 : sigma= 1 : lamda= 1.5707963267948966 : gamma= 0.05\n",
      "Gabor6 : theta= 0.0 : sigma= 1 : lamda= 1.5707963267948966 : gamma= 0.5\n",
      "Gabor8 : theta= 0.0 : sigma= 1 : lamda= 2.356194490192345 : gamma= 0.5\n",
      "Gabor11 : theta= 0.0 : sigma= 3 : lamda= 0.7853981633974483 : gamma= 0.05\n",
      "Gabor23 : theta= 0.7853981633974483 : sigma= 1 : lamda= 2.356194490192345 : gamma= 0.05\n"
     ]
    },
    {
     "data": {
      "text/plain": [
       "(        Blue  Green  Red  Gray  Gabor4  Gabor5  Gabor6  Gabor8  Gabor11  \\\n",
       " 0          0      0    0     0       0       0       0       0        0   \n",
       " 1          0      0    0     0       0       0       0       0        0   \n",
       " 2          0      0    0     0       0       0       0       0        0   \n",
       " 3          0      0    0     0       0       0       0       0        0   \n",
       " 4          0      0    0     0       0       0       0       0        0   \n",
       " ...      ...    ...  ...   ...     ...     ...     ...     ...      ...   \n",
       " 508958     0      0    0     0       0       0       0       0        0   \n",
       " 508959     0      0    0     0       0       0       0       0        0   \n",
       " 508960     0      0    0     0       0       0       0       0        0   \n",
       " 508961     0      0    0     0       0       0       0       0        0   \n",
       " 508962     0      0    0     0       0       0       0       0        0   \n",
       " \n",
       "         Gabor23  ...  Sobel  Scharr  Prewitt  Gaussian s3  Gaussian s7  \\\n",
       " 0             0  ...    0.0     0.0      0.0            0            0   \n",
       " 1             0  ...    0.0     0.0      0.0            0            0   \n",
       " 2             0  ...    0.0     0.0      0.0            0            0   \n",
       " 3             0  ...    0.0     0.0      0.0            0            0   \n",
       " 4             0  ...    0.0     0.0      0.0            0            0   \n",
       " ...         ...  ...    ...     ...      ...          ...          ...   \n",
       " 508958        0  ...    0.0     0.0      0.0            0            0   \n",
       " 508959        0  ...    0.0     0.0      0.0            0            0   \n",
       " 508960        0  ...    0.0     0.0      0.0            0            0   \n",
       " 508961        0  ...    0.0     0.0      0.0            0            0   \n",
       " 508962        0  ...    0.0     0.0      0.0            0            0   \n",
       " \n",
       "         Median s3  Felzenszwalb  Quickshift  SLIC  Watershed  \n",
       " 0               0             0          55     1          1  \n",
       " 1               0             0          55     1          1  \n",
       " 2               0             0          55     1          1  \n",
       " 3               0             0          55     1          1  \n",
       " 4               0             0          55     1          1  \n",
       " ...           ...           ...         ...   ...        ...  \n",
       " 508958          0           336        2502   198        252  \n",
       " 508959          0           336        2502   198        252  \n",
       " 508960          0           336        2502   198        252  \n",
       " 508961          0           336        2502   198        252  \n",
       " 508962          0           336        2502   198        252  \n",
       " \n",
       " [508963 rows x 21 columns],\n",
       " {'driver': 'GTiff',\n",
       "  'dtype': 'float32',\n",
       "  'nodata': -3.3999999521443642e+38,\n",
       "  'width': 799,\n",
       "  'height': 637,\n",
       "  'count': 3,\n",
       "  'crs': CRS.from_epsg(32613),\n",
       "  'transform': Affine(1.0, 0.0, 335850.0,\n",
       "         0.0, -1.0, 4308295.0)})"
      ]
     },
     "execution_count": 4,
     "metadata": {},
     "output_type": "execute_result"
    }
   ],
   "source": [
    "from Preprocessing import rf_preprocessing\n",
    "\n",
    "rf_preprocessing(filepath, verbose=True)"
   ]
  },
  {
   "cell_type": "code",
   "execution_count": 5,
   "metadata": {},
   "outputs": [
    {
     "data": {
      "text/plain": [
       "4118       33\n",
       "4119       31\n",
       "4120       62\n",
       "4756       23\n",
       "4757       34\n",
       "         ... \n",
       "354363     19\n",
       "354364     23\n",
       "355002    118\n",
       "355003     32\n",
       "355004    106\n",
       "Name: Blue, Length: 21934226, dtype: uint8"
      ]
     },
     "execution_count": 5,
     "metadata": {},
     "output_type": "execute_result"
    }
   ],
   "source": [
    "import pickle\n",
    "with open(\"../X_y.pkl\", \"rb\") as f:\n",
    "    X, y = pickle.load(f)\n",
    "X['Blue']"
   ]
  }
 ],
 "metadata": {
  "kernelspec": {
   "display_name": "Python 3",
   "language": "python",
   "name": "python3"
  },
  "language_info": {
   "codemirror_mode": {
    "name": "ipython",
    "version": 3
   },
   "file_extension": ".py",
   "mimetype": "text/x-python",
   "name": "python",
   "nbconvert_exporter": "python",
   "pygments_lexer": "ipython3",
   "version": "3.11.9"
  }
 },
 "nbformat": 4,
 "nbformat_minor": 2
}
