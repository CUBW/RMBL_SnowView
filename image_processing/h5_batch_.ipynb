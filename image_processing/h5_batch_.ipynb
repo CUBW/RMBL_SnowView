{
 "cells": [
  {
   "cell_type": "code",
   "execution_count": 8,
   "metadata": {},
   "outputs": [
    {
     "name": "stdout",
     "output_type": "stream",
     "text": [
      "<KeysViewHDF5 ['0', '1', '10', '11', '12', '13', '14', '15', '16', '17', '18', '19', '2', '3', '4', '5', '6', '7', '8', '9']>\n",
      "3051\n",
      "(5, 1024, 1024)\n"
     ]
    }
   ],
   "source": [
    "import h5py\n",
    "\n",
    "filepath = \"E:/RMBL_Snow_Data/1024_image_mask/image_mask.h5\"\n",
    "with h5py.File(filepath, 'r') as h5:\n",
    "    print(h5.keys())\n",
    "    \n",
    "    dataset = h5['2']\n",
    "    print(len(dataset))\n",
    "    print(dataset[0].shape)"
   ]
  }
 ],
 "metadata": {
  "kernelspec": {
   "display_name": "base",
   "language": "python",
   "name": "python3"
  },
  "language_info": {
   "codemirror_mode": {
    "name": "ipython",
    "version": 3
   },
   "file_extension": ".py",
   "mimetype": "text/x-python",
   "name": "python",
   "nbconvert_exporter": "python",
   "pygments_lexer": "ipython3",
   "version": "3.10.11"
  },
  "orig_nbformat": 4
 },
 "nbformat": 4,
 "nbformat_minor": 2
}
